{
 "cells": [
  {
   "cell_type": "markdown",
   "metadata": {},
   "source": [
    "# participant\n",
    "\n",
    "Title = \"sumaira inf\"\n",
    "\n",
    "Name= \"Sumaira\"\n",
    "\n",
    "emial= \"python ka chilla@codnics.com\"\n",
    "\n",
    "whatsapp contact= \"03236657656\"\n",
    "\n"
   ]
  }
 ],
 "metadata": {
  "language_info": {
   "name": "python"
  }
 },
 "nbformat": 4,
 "nbformat_minor": 2
}
